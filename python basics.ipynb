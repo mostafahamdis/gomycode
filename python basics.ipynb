{
 "cells": [
  {
   "cell_type": "code",
   "execution_count": 3,
   "id": "e120d8bc",
   "metadata": {
    "scrolled": true
   },
   "outputs": [
    {
     "name": "stdout",
     "output_type": "stream",
     "text": [
      "First name:mostafa\n",
      "Last name:hamdy\n",
      "hamdy mostafa\n"
     ]
    }
   ],
   "source": [
    "first_name= input(\"First name:\")\n",
    "last_name= input(\"Last name:\")\n",
    "print(last_name,first_name)"
   ]
  },
  {
   "cell_type": "code",
   "execution_count": 1,
   "id": "442fae05",
   "metadata": {},
   "outputs": [
    {
     "name": "stdout",
     "output_type": "stream",
     "text": [
      "enter a num5\n",
      "615\n"
     ]
    }
   ],
   "source": [
    "n= int(input(\"enter a num\"))\n",
    "nn=((n*10)+5)\n",
    "nnn=((nn*10)+5)\n",
    "print(n+nn+nnn)"
   ]
  },
  {
   "cell_type": "code",
   "execution_count": null,
   "id": "b47d2a56",
   "metadata": {},
   "outputs": [],
   "source": [
    "num=int(input(\"write a num:\"))\n",
    "\n",
    "if(num % 2) == 0:\n",
    "    print(\"this number is an even num.\")\n",
    "else:\n",
    "    print(\"this num is an odd num.\")\n"
   ]
  },
  {
   "cell_type": "code",
   "execution_count": null,
   "id": "332e9295",
   "metadata": {},
   "outputs": [],
   "source": [
    "for i in range(2000,3200):\n",
    " if (i%7==0 and i%5!=0):\n",
    "    print(i)"
   ]
  },
  {
   "cell_type": "code",
   "execution_count": 4,
   "id": "4ce5e49b",
   "metadata": {},
   "outputs": [
    {
     "name": "stdout",
     "output_type": "stream",
     "text": [
      "enter a num8\n",
      "40320\n"
     ]
    }
   ],
   "source": [
    "n=int(input(\"enter a num\"))\n",
    "f=1\n",
    "for i in range (1,n+1):\n",
    "    f=f*i\n",
    "print(f)"
   ]
  },
  {
   "cell_type": "code",
   "execution_count": 4,
   "id": "41816582",
   "metadata": {},
   "outputs": [
    {
     "name": "stdout",
     "output_type": "stream",
     "text": [
      "hello team\n",
      "hlota\n"
     ]
    }
   ],
   "source": [
    "string=input()\n",
    "string2=(\"\")\n",
    "for i in range(len(string)):\n",
    "    if i %2==0:\n",
    "        string2= string2 + string[i]\n",
    "print(string2)"
   ]
  },
  {
   "cell_type": "code",
   "execution_count": null,
   "id": "45b44d01",
   "metadata": {},
   "outputs": [],
   "source": [
    "n= int(input())\n",
    "if n>=500:\n",
    "    print(n*0.5)\n",
    "elif n<500 and n>200:\n",
    "    print(n*0.3)\n",
    "elif n<200:\n",
    "    print(n*0.1)"
   ]
  }
 ],
 "metadata": {
  "kernelspec": {
   "display_name": "Python 3 (ipykernel)",
   "language": "python",
   "name": "python3"
  },
  "language_info": {
   "codemirror_mode": {
    "name": "ipython",
    "version": 3
   },
   "file_extension": ".py",
   "mimetype": "text/x-python",
   "name": "python",
   "nbconvert_exporter": "python",
   "pygments_lexer": "ipython3",
   "version": "3.9.12"
  }
 },
 "nbformat": 4,
 "nbformat_minor": 5
}
