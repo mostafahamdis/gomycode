{
 "cells": [
  {
   "cell_type": "code",
   "execution_count": 3,
   "id": "37a0cf14",
   "metadata": {},
   "outputs": [],
   "source": [
    "a=open(\"python.txt\")"
   ]
  },
  {
   "cell_type": "code",
   "execution_count": 4,
   "id": "762004d5",
   "metadata": {},
   "outputs": [
    {
     "name": "stdout",
     "output_type": "stream",
     "text": [
      "What is Python language?                                                \n",
      "\n"
     ]
    }
   ],
   "source": [
    "print(a.readline())"
   ]
  },
  {
   "cell_type": "code",
   "execution_count": 11,
   "id": "ffb429dc",
   "metadata": {},
   "outputs": [
    {
     "name": "stdout",
     "output_type": "stream",
     "text": [
      "Python supports multiple programming paradigms, including object-oriented, imperative and functional programming or procedural styles. It features a dynamic type system and automatic memory management and has a large and comprehensive standard library.The best way we learn anything is by practice and exercise questions. We  have started this section for those (beginner to intermediate) who are familiar with Python.\n"
     ]
    }
   ],
   "source": [
    "a=open(\"python.txt\")\n",
    "print(a.readlines()[-1])"
   ]
  },
  {
   "cell_type": "code",
   "execution_count": 17,
   "id": "199fd7be",
   "metadata": {},
   "outputs": [
    {
     "name": "stdout",
     "output_type": "stream",
     "text": [
      "100\n"
     ]
    }
   ],
   "source": [
    "counter=0\n",
    "a=open(\"python.txt\")\n",
    "d=a.read().split()\n",
    "counter+=len(d)\n",
    "print(counter)\n",
    "    "
   ]
  },
  {
   "cell_type": "code",
   "execution_count": null,
   "id": "96f4a254",
   "metadata": {},
   "outputs": [],
   "source": []
  }
 ],
 "metadata": {
  "kernelspec": {
   "display_name": "Python 3 (ipykernel)",
   "language": "python",
   "name": "python3"
  },
  "language_info": {
   "codemirror_mode": {
    "name": "ipython",
    "version": 3
   },
   "file_extension": ".py",
   "mimetype": "text/x-python",
   "name": "python",
   "nbconvert_exporter": "python",
   "pygments_lexer": "ipython3",
   "version": "3.9.12"
  }
 },
 "nbformat": 4,
 "nbformat_minor": 5
}
