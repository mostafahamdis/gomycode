{
 "cells": [
  {
   "cell_type": "code",
   "execution_count": 8,
   "id": "f7841dc2",
   "metadata": {},
   "outputs": [
    {
     "name": "stdout",
     "output_type": "stream",
     "text": [
      "(1,2,3)\n"
     ]
    }
   ],
   "source": [
    "class point3D:\n",
    "  def __init__(self,x,y,z):\n",
    "     self.x=x\n",
    "     self.y=y\n",
    "     self.z=z\n",
    "  def mult(self):\n",
    "   return \"({},{},{})\".format(self.x,self.y,self.z)\n",
    "my_point=point3D(1,2,3) \n",
    "print(my_point.mult())"
   ]
  },
  {
   "cell_type": "code",
   "execution_count": 3,
   "id": "cf617b10",
   "metadata": {},
   "outputs": [
    {
     "name": "stdout",
     "output_type": "stream",
     "text": [
      "14\n",
      "12\n"
     ]
    }
   ],
   "source": [
    "class rectangle:\n",
    "    def __init__(self,length,width):\n",
    "        self.length=length\n",
    "        self.width=width\n",
    "    def area(self):\n",
    "        return (self.length*self.width)\n",
    "    def perimeter(self):\n",
    "        return 2*(self.length+self.width)\n",
    "my_rectangle= rectangle(4,3)\n",
    "print((my_rectangle.perimeter()))\n",
    "print((my_rectangle.area()))"
   ]
  },
  {
   "cell_type": "code",
   "execution_count": 1,
   "id": "6edb5f41",
   "metadata": {},
   "outputs": [
    {
     "name": "stdout",
     "output_type": "stream",
     "text": [
      "perimeter= 12.56636\n",
      "area= 12.56636\n",
      "the point does not belong to the circle\n"
     ]
    }
   ],
   "source": [
    "class circle:\n",
    "  def __init__(self,radius,a,b):\n",
    "    self.a=a\n",
    "    self.b=b\n",
    "    self.radius=radius\n",
    "  def area(self):\n",
    "    return(3.14159)*(self.radius)**2\n",
    "    \n",
    "  def perimeter(self):\n",
    "    return 2*(3.14159)*(self.radius)\n",
    "    \n",
    "  def inside(self,x,y):\n",
    "    return(x-self.a)**2+(y-self.b)**2-self.radius**2\n",
    "  def test(self,x,y):\n",
    "    if self.inside(x,y) == 0:\n",
    "        print(\"the point belongs to the circle\")\n",
    "    else:\n",
    "        print(\"the point does not belong to the circle\")\n",
    "a=circle(2,1,1)\n",
    "print (\"perimeter=\", a.perimeter() )\n",
    "print (\"area=\", a.area())\n",
    "a.test(1,1)"
   ]
  },
  {
   "cell_type": "code",
   "execution_count": 4,
   "id": "ebfa4daa",
   "metadata": {},
   "outputs": [
    {
     "name": "stdout",
     "output_type": "stream",
     "text": [
      "Welocme to AB\n",
      "Enter the balance to be deposited4000\n",
      "Please enter the withdrawal amount:3000\n",
      "remaining balance 1000\n"
     ]
    }
   ],
   "source": [
    "class bank:\n",
    "    def __init__(self):\n",
    "        self.balance=0\n",
    "        print(\"Welocme to AB\")\n",
    "        \n",
    "    def deposit(self):\n",
    "        x= int(input(\"Enter the balance to be deposited\"))\n",
    "        self.balance+=x\n",
    "    def withdraw(self):\n",
    "        y= int(input(\"Please enter the withdrawal amount:\"))\n",
    "        if self.balance>=y:\n",
    "            self.balance= self.balance-y\n",
    "            print(\"remaining balance\",self.balance)\n",
    "        else:\n",
    "            print(\"Not enough balance\")\n",
    "a=bank()\n",
    "a.deposit()\n",
    "a.withdraw()\n",
    "            \n",
    "        \n",
    "    \n"
   ]
  },
  {
   "cell_type": "code",
   "execution_count": null,
   "id": "87ea897d",
   "metadata": {},
   "outputs": [],
   "source": []
  },
  {
   "cell_type": "code",
   "execution_count": null,
   "id": "4958c76e",
   "metadata": {},
   "outputs": [],
   "source": []
  }
 ],
 "metadata": {
  "kernelspec": {
   "display_name": "Python 3 (ipykernel)",
   "language": "python",
   "name": "python3"
  },
  "language_info": {
   "codemirror_mode": {
    "name": "ipython",
    "version": 3
   },
   "file_extension": ".py",
   "mimetype": "text/x-python",
   "name": "python",
   "nbconvert_exporter": "python",
   "pygments_lexer": "ipython3",
   "version": "3.9.12"
  }
 },
 "nbformat": 4,
 "nbformat_minor": 5
}
