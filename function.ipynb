{
 "cells": [
  {
   "cell_type": "code",
   "execution_count": 1,
   "id": "8596daef",
   "metadata": {},
   "outputs": [
    {
     "name": "stdout",
     "output_type": "stream",
     "text": [
      "35\n"
     ]
    }
   ],
   "source": [
    "def maximum(list):\n",
    " max(list)\n",
    " return max(list)\n",
    "list=[20,35,19]\n",
    "print(maximum(list=[20,35,19]))"
   ]
  },
  {
   "cell_type": "code",
   "execution_count": 2,
   "id": "a20bf400",
   "metadata": {},
   "outputs": [
    {
     "data": {
      "text/plain": [
       "(50, 30)"
      ]
     },
     "execution_count": 2,
     "metadata": {},
     "output_type": "execute_result"
    }
   ],
   "source": [
    "def test(a,b):\n",
    "    x=int(a)\n",
    "    y=int(b)\n",
    "    return x+y,x-y\n",
    "test(40,10)"
   ]
  },
  {
   "cell_type": "code",
   "execution_count": 10,
   "id": "03dfe0db",
   "metadata": {
    "scrolled": true
   },
   "outputs": [
    {
     "name": "stdout",
     "output_type": "stream",
     "text": [
      "[2, 4, 6, 8]\n",
      "[1, 3, 5, 7]\n"
     ]
    }
   ],
   "source": [
    "def add(mylist):\n",
    "    a=0\n",
    "    for i in mylist:\n",
    "        a= a+i\n",
    "    return a\n",
    "def mult(list):\n",
    "    x=1 \n",
    "    for i in list:\n",
    "        x= x*i\n",
    "    return x\n",
    "list1=[1,2,3,4,5,6,7,8]\n",
    "list2=[]\n",
    "list3=[]\n",
    "for i in list1:\n",
    "    if i % 2==0:\n",
    "      list2.append(i)\n",
    "    elif i%2!=0:\n",
    "        list3.append(i)\n",
    "add(list1)\n",
    "mult(list1)\n",
    "print(list2)\n",
    "print(list3)"
   ]
  },
  {
   "cell_type": "code",
   "execution_count": null,
   "id": "28321f3d",
   "metadata": {},
   "outputs": [],
   "source": [
    "x= input(\"e:\")\n",
    "y=x.split(\"-\")\n",
    "y.sort()\n",
    "print(y)"
   ]
  },
  {
   "cell_type": "code",
   "execution_count": null,
   "id": "bdd152c7",
   "metadata": {},
   "outputs": [],
   "source": []
  },
  {
   "cell_type": "code",
   "execution_count": null,
   "id": "2f8378f5",
   "metadata": {},
   "outputs": [],
   "source": []
  }
 ],
 "metadata": {
  "kernelspec": {
   "display_name": "Python 3 (ipykernel)",
   "language": "python",
   "name": "python3"
  },
  "language_info": {
   "codemirror_mode": {
    "name": "ipython",
    "version": 3
   },
   "file_extension": ".py",
   "mimetype": "text/x-python",
   "name": "python",
   "nbconvert_exporter": "python",
   "pygments_lexer": "ipython3",
   "version": "3.9.12"
  }
 },
 "nbformat": 4,
 "nbformat_minor": 5
}
